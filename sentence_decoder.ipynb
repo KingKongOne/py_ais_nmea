{
 "cells": [
  {
   "cell_type": "code",
   "execution_count": 2,
   "metadata": {},
   "outputs": [],
   "source": [
    "import logging\n",
    "\n",
    "import ais\n",
    "import nmea\n",
    "import binary\n",
    "\n",
    "AISLOGGER = logging.getLogger(__name__)"
   ]
  },
  {
   "cell_type": "code",
   "execution_count": 3,
   "metadata": {},
   "outputs": [
    {
     "name": "stdout",
     "output_type": "stream",
     "text": [
      "Position Report Class A - MMSI: 1022293880,  Location: -0.13090333333333334,-183.61788666666666, Speed: 35.0, True Heading: 0, CoG: 0.0, Navigation Status: Moored\n"
     ]
    }
   ],
   "source": [
    "def read_from_list(sentences):\n",
    "    \"\"\"\n",
    "    take a list of NMEA 0183 sentences and decode them into AIS messages\n",
    "\n",
    "    Args:\n",
    "        sentences(list): list of strings, each item is a NMEA 0183 sentence\n",
    "        \n",
    "    Returns:\n",
    "        decoded(list): list of strings, each item is the description of an AIS message\n",
    "    \"\"\"\n",
    "    decoded = []\n",
    "    aistracker = ais.AISTracker()\n",
    "    nmeatracker = nmea.NMEAtracker()\n",
    "    for line in sentences:\n",
    "        try:\n",
    "            payload = nmeatracker.process_sentence(line)\n",
    "            if payload:\n",
    "                msg = aistracker.process_message(payload)\n",
    "                desc = msg.__str__()\n",
    "                decoded.append(desc)\n",
    "        except nmea.NMEAInvalidSentence as err:\n",
    "            AISLOGGER.debug(str(err))\n",
    "            continue\n",
    "        except nmea.NMEACheckSumFailed as err:\n",
    "            AISLOGGER.debug(str(err))\n",
    "            continue\n",
    "        except ais.UnknownMessageType as err:\n",
    "            AISLOGGER.debug(str(err))\n",
    "            AISLOGGER.debug('unknown message - ' + data)\n",
    "            continue\n",
    "        except IndexError:\n",
    "            AISLOGGER.debug('no data on line')\n",
    "            continue\n",
    "    return decoded\n",
    "            \n",
    "            \n",
    "inputsentences = ['!AIVDM,1,1,,A,3O>soN5MUNBoMdUdlh,0*64']\n",
    "decodedmessages = read_from_list(inputsentences)\n",
    "for msg in decodedmessages:\n",
    "    print(msg)"
   ]
  },
  {
   "cell_type": "code",
   "execution_count": null,
   "metadata": {},
   "outputs": [],
   "source": []
  },
  {
   "cell_type": "code",
   "execution_count": null,
   "metadata": {},
   "outputs": [],
   "source": []
  },
  {
   "cell_type": "code",
   "execution_count": null,
   "metadata": {},
   "outputs": [],
   "source": []
  }
 ],
 "metadata": {
  "kernelspec": {
   "display_name": "Python 3",
   "language": "python",
   "name": "python3"
  }
 },
 "nbformat": 4,
 "nbformat_minor": 2
}
