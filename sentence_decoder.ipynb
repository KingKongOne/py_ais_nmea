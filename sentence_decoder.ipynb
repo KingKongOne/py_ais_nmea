{
 "cells": [
  {
   "cell_type": "code",
   "execution_count": 1,
   "metadata": {},
   "outputs": [],
   "source": [
    "import logging\n",
    "\n",
    "import ais\n",
    "import nmea\n",
    "import binary\n",
    "\n",
    "AISLOGGER = logging.getLogger(__name__)"
   ]
  },
  {
   "cell_type": "code",
   "execution_count": 2,
   "metadata": {},
   "outputs": [],
   "source": [
    "def read_from_list(sentences):\n",
    "    \"\"\"\n",
    "    take a list of NMEA 0183 sentences and decode them into AIS messages\n",
    "\n",
    "    Args:\n",
    "        sentences(list): list of strings, each item is a NMEA 0183 sentence\n",
    "        \n",
    "    Returns:\n",
    "        decoded(list): list of dicts, each item is a decoded AIS message\n",
    "    \"\"\"\n",
    "    decoded = []\n",
    "    aistracker = ais.AISTracker()\n",
    "    nmeatracker = nmea.NMEAtracker()\n",
    "    for line in sentences:\n",
    "        try:\n",
    "            payload = nmeatracker.process_sentence(line)\n",
    "            if payload:\n",
    "                msg = aistracker.process_message(payload)\n",
    "                desc = msg.__dict__\n",
    "                decoded.append(desc)\n",
    "        except nmea.NMEAInvalidSentence as err:\n",
    "            AISLOGGER.debug(str(err))\n",
    "            continue\n",
    "        except nmea.NMEACheckSumFailed as err:\n",
    "            AISLOGGER.debug(str(err))\n",
    "            continue\n",
    "        except ais.UnknownMessageType as err:\n",
    "            AISLOGGER.debug(str(err))\n",
    "            AISLOGGER.debug('unknown message - ' + data)\n",
    "            continue\n",
    "        except IndexError:\n",
    "            AISLOGGER.debug('no data on line')\n",
    "            continue\n",
    "    return decoded\n",
    "            \n",
    "            \n",
    "inputsentences = ['!AIVDM,1,1,,A,13P;Ruhslhwg2CdNgt?E?D=>88GO,0*25']\n",
    "decodedmessages = read_from_list(inputsentences)"
   ]
  },
  {
   "cell_type": "code",
   "execution_count": 3,
   "metadata": {},
   "outputs": [
    {
     "data": {
      "text/plain": [
       "[{'courseoverground': 134.1,\n",
       "  'description': 'Type 1 - Position Report Class A',\n",
       "  'latitude': 53.737915,\n",
       "  'longitude': -3.70583,\n",
       "  'maneuverindicator': 'not available/default',\n",
       "  'mmsi': '235070199',\n",
       "  'msgbinary': '000001000011100000001011100010111101110000111011110100110000111111101111000010010011101100011110101111111100001111010101001111010100001101001110001000001000010111011111',\n",
       "  'msgtype': 1,\n",
       "  'navstatus': 'Under way using engine',\n",
       "  'posfixaccuracy': '< 10m',\n",
       "  'radiostatus': 34271,\n",
       "  'raim': False,\n",
       "  'repeatcount': 0,\n",
       "  'speed': 30.4,\n",
       "  'timestampsecond': 39,\n",
       "  'trueheading': 134,\n",
       "  'turnrate': 'turning left at -12.9 degrees per minute'}]"
      ]
     },
     "execution_count": 3,
     "metadata": {},
     "output_type": "execute_result"
    }
   ],
   "source": [
    "decodedmessages"
   ]
  },
  {
   "cell_type": "code",
   "execution_count": null,
   "metadata": {},
   "outputs": [],
   "source": []
  },
  {
   "cell_type": "code",
   "execution_count": null,
   "metadata": {},
   "outputs": [],
   "source": []
  }
 ],
 "metadata": {
  "kernelspec": {
   "display_name": "Python 3",
   "language": "python",
   "name": "python3"
  },
  "language_info": {
   "codemirror_mode": {
    "name": "ipython",
    "version": 3
   },
   "file_extension": ".py",
   "mimetype": "text/x-python",
   "name": "python",
   "nbconvert_exporter": "python",
   "pygments_lexer": "ipython3",
   "version": "3.6.8"
  }
 },
 "nbformat": 4,
 "nbformat_minor": 2
}
